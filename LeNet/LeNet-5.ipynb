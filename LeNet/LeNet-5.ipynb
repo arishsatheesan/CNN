{
 "cells": [
  {
   "cell_type": "markdown",
   "metadata": {},
   "source": [
    "Note that LeNet-5 uses 32x32 images, but in this code we use 28x28 images as available from MNIST dataset.  "
   ]
  },
  {
   "cell_type": "code",
   "execution_count": 6,
   "metadata": {},
   "outputs": [
    {
     "name": "stdout",
     "output_type": "stream",
     "text": [
      "x_train shape: (60000, 28, 28, 1)\n",
      "60000 train samples\n",
      "10000 test samples\n",
      "Train on 60000 samples, validate on 10000 samples\n",
      "Epoch 1/12\n",
      "60000/60000 [==============================] - 13s 218us/step - loss: 0.3853 - acc: 0.8854 - val_loss: 0.2360 - val_acc: 0.9282\n",
      "Epoch 2/12\n",
      "60000/60000 [==============================] - 13s 214us/step - loss: 0.1705 - acc: 0.9478 - val_loss: 0.1086 - val_acc: 0.9642\n",
      "Epoch 3/12\n",
      "60000/60000 [==============================] - 17s 287us/step - loss: 0.1086 - acc: 0.9668 - val_loss: 0.0798 - val_acc: 0.9728\n",
      "Epoch 4/12\n",
      "60000/60000 [==============================] - 18s 296us/step - loss: 0.0851 - acc: 0.9736 - val_loss: 0.0692 - val_acc: 0.9775\n",
      "Epoch 5/12\n",
      "60000/60000 [==============================] - 17s 291us/step - loss: 0.0739 - acc: 0.9773 - val_loss: 0.0678 - val_acc: 0.9776\n",
      "Epoch 6/12\n",
      "60000/60000 [==============================] - 18s 293us/step - loss: 0.0650 - acc: 0.9795 - val_loss: 0.0471 - val_acc: 0.9839\n",
      "Epoch 7/12\n",
      "60000/60000 [==============================] - 18s 294us/step - loss: 0.0590 - acc: 0.9820 - val_loss: 0.0470 - val_acc: 0.9845\n",
      "Epoch 8/12\n",
      "60000/60000 [==============================] - 18s 292us/step - loss: 0.0542 - acc: 0.9830 - val_loss: 0.0475 - val_acc: 0.9847\n",
      "Epoch 9/12\n",
      "60000/60000 [==============================] - 18s 294us/step - loss: 0.0499 - acc: 0.9843 - val_loss: 0.0455 - val_acc: 0.9849\n",
      "Epoch 10/12\n",
      "60000/60000 [==============================] - 18s 294us/step - loss: 0.0461 - acc: 0.9856 - val_loss: 0.0485 - val_acc: 0.9836\n",
      "Epoch 11/12\n",
      "60000/60000 [==============================] - 18s 300us/step - loss: 0.0444 - acc: 0.9864 - val_loss: 0.0383 - val_acc: 0.9865\n",
      "Epoch 12/12\n",
      "60000/60000 [==============================] - 18s 293us/step - loss: 0.0416 - acc: 0.9867 - val_loss: 0.0447 - val_acc: 0.9853\n",
      "Test loss: 0.044651614989561494\n",
      "Test accuracy: 0.9853\n"
     ]
    }
   ],
   "source": [
    "from __future__ import print_function\n",
    "import keras\n",
    "from keras.datasets import mnist\n",
    "from keras.models import Sequential, load_model\n",
    "from keras.layers import Dense, Dropout, Flatten, Activation\n",
    "from keras.layers import Conv2D, MaxPooling2D,AveragePooling2D\n",
    "from keras import backend as K\n",
    "import numpy as np\n",
    "import cv2\n",
    "\n",
    "batch_size = 128\n",
    "num_classes = 10\n",
    "epochs = 12\n",
    "\n",
    "img_rows, img_cols = 28, 28\n",
    "\n",
    "(x_train, y_train), (x_test, y_test) = mnist.load_data()\n",
    "\n",
    "if K.image_data_format() == 'channels_first':\n",
    "    x_train = x_train.reshape(x_train.shape[0], 1, img_rows, img_cols)\n",
    "    x_test = x_test.reshape(x_test.shape[0], 1, img_rows, img_cols)\n",
    "    input_shape = (1, img_rows, img_cols)\n",
    "else:\n",
    "    x_train = x_train.reshape(x_train.shape[0], img_rows, img_cols, 1)\n",
    "    x_test = x_test.reshape(x_test.shape[0], img_rows, img_cols, 1)\n",
    "    input_shape = (img_rows, img_cols, 1)\n",
    "    \n",
    "x_train = x_train.astype('float32')\n",
    "x_test = x_test.astype('float32')\n",
    "x_train /= 255\n",
    "x_test /= 255\n",
    "print('x_train shape:', x_train.shape)\n",
    "print(x_train.shape[0], 'train samples')\n",
    "print(x_test.shape[0], 'test samples')\n",
    "\n",
    "# convert class vectors to binary class matrices\n",
    "y_train = keras.utils.to_categorical(y_train, num_classes)\n",
    "y_test = keras.utils.to_categorical(y_test, num_classes)\n",
    "\n",
    "model=Sequential()\n",
    "#Layer 1 - Convolution layer 1\n",
    "model.add(Conv2D(6, kernel_size=(5, 5), activation='tanh', input_shape=input_shape))\n",
    "#Layer 2 - Subsampling layer - average pool 1\n",
    "model.add(AveragePooling2D(pool_size=(2, 2),strides=2))\n",
    "#Layer 3 - Convolution layer 2\n",
    "model.add(Conv2D(16, (5, 5), activation='tanh'))\n",
    "#Layer 4 - Subsampling layer - average pool 2\n",
    "model.add(AveragePooling2D(pool_size=(2, 2),strides=2))\n",
    "model.add(Flatten())\n",
    "#Layer 5 - Fully connected layer 1\n",
    "model.add(Dense(128))\n",
    "#Layer 5 - Fully connected layer 2\n",
    "model.add(Dense(84))\n",
    "#Layer 5 - Fully connected layer 3\n",
    "model.add(Dense(num_classes))\n",
    "model.add(Activation('softmax'))\n",
    "\n",
    "model.compile(loss=keras.losses.categorical_crossentropy,\n",
    "              optimizer=keras.optimizers.Adadelta(),\n",
    "              metrics=['accuracy'])\n",
    "\n",
    "model.fit(x_train, y_train,\n",
    "          batch_size=batch_size,\n",
    "          epochs=epochs,\n",
    "          verbose=1,\n",
    "          validation_data=(x_test, y_test))\n",
    "score = model.evaluate(x_test, y_test, verbose=0)\n",
    "print('Test loss:', score[0])\n",
    "print('Test accuracy:', score[1])"
   ]
  },
  {
   "cell_type": "code",
   "execution_count": 8,
   "metadata": {},
   "outputs": [
    {
     "name": "stdout",
     "output_type": "stream",
     "text": [
      "_________________________________________________________________\n",
      "Layer (type)                 Output Shape              Param #   \n",
      "=================================================================\n",
      "conv2d_7 (Conv2D)            (None, 24, 24, 6)         156       \n",
      "_________________________________________________________________\n",
      "average_pooling2d_7 (Average (None, 12, 12, 6)         0         \n",
      "_________________________________________________________________\n",
      "conv2d_8 (Conv2D)            (None, 8, 8, 16)          2416      \n",
      "_________________________________________________________________\n",
      "average_pooling2d_8 (Average (None, 4, 4, 16)          0         \n",
      "_________________________________________________________________\n",
      "flatten_4 (Flatten)          (None, 256)               0         \n",
      "_________________________________________________________________\n",
      "dense_10 (Dense)             (None, 128)               32896     \n",
      "_________________________________________________________________\n",
      "dense_11 (Dense)             (None, 84)                10836     \n",
      "_________________________________________________________________\n",
      "dense_12 (Dense)             (None, 10)                850       \n",
      "_________________________________________________________________\n",
      "activation_4 (Activation)    (None, 10)                0         \n",
      "=================================================================\n",
      "Total params: 47,154\n",
      "Trainable params: 47,154\n",
      "Non-trainable params: 0\n",
      "_________________________________________________________________\n"
     ]
    }
   ],
   "source": [
    "model.layers\n",
    "model.summary()"
   ]
  },
  {
   "cell_type": "code",
   "execution_count": null,
   "metadata": {},
   "outputs": [],
   "source": []
  }
 ],
 "metadata": {
  "kernelspec": {
   "display_name": "Python 3",
   "language": "python",
   "name": "python3"
  },
  "language_info": {
   "codemirror_mode": {
    "name": "ipython",
    "version": 3
   },
   "file_extension": ".py",
   "mimetype": "text/x-python",
   "name": "python",
   "nbconvert_exporter": "python",
   "pygments_lexer": "ipython3",
   "version": "3.6.5"
  }
 },
 "nbformat": 4,
 "nbformat_minor": 2
}
