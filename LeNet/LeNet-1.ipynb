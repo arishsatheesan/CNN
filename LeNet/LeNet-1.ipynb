{
 "cells": [
  {
   "cell_type": "code",
   "execution_count": 1,
   "metadata": {},
   "outputs": [
    {
     "name": "stderr",
     "output_type": "stream",
     "text": [
      "Using TensorFlow backend.\n"
     ]
    },
    {
     "name": "stdout",
     "output_type": "stream",
     "text": [
      "x_train shape: (60000, 28, 28, 1)\n",
      "60000 train samples\n",
      "10000 test samples\n",
      "Train on 60000 samples, validate on 10000 samples\n",
      "Epoch 1/12\n",
      "60000/60000 [==============================] - 18s 292us/step - loss: 0.5036 - acc: 0.8557 - val_loss: 0.2590 - val_acc: 0.9247\n",
      "Epoch 2/12\n",
      "60000/60000 [==============================] - 17s 278us/step - loss: 0.2277 - acc: 0.9352 - val_loss: 0.1731 - val_acc: 0.9505\n",
      "Epoch 3/12\n",
      "60000/60000 [==============================] - 16s 270us/step - loss: 0.1631 - acc: 0.9539 - val_loss: 0.1312 - val_acc: 0.9626\n",
      "Epoch 4/12\n",
      "60000/60000 [==============================] - 17s 278us/step - loss: 0.1292 - acc: 0.9635 - val_loss: 0.1070 - val_acc: 0.9690\n",
      "Epoch 5/12\n",
      "60000/60000 [==============================] - 17s 277us/step - loss: 0.1092 - acc: 0.9688 - val_loss: 0.0931 - val_acc: 0.9719\n",
      "Epoch 6/12\n",
      "60000/60000 [==============================] - 16s 275us/step - loss: 0.0959 - acc: 0.9725 - val_loss: 0.0849 - val_acc: 0.9744\n",
      "Epoch 7/12\n",
      "60000/60000 [==============================] - 17s 276us/step - loss: 0.0866 - acc: 0.9750 - val_loss: 0.0746 - val_acc: 0.9780\n",
      "Epoch 8/12\n",
      "60000/60000 [==============================] - 17s 277us/step - loss: 0.0791 - acc: 0.9776 - val_loss: 0.0701 - val_acc: 0.9797\n",
      "Epoch 9/12\n",
      "60000/60000 [==============================] - 17s 278us/step - loss: 0.0734 - acc: 0.9787 - val_loss: 0.0663 - val_acc: 0.9804\n",
      "Epoch 10/12\n",
      "60000/60000 [==============================] - 17s 289us/step - loss: 0.0688 - acc: 0.9802 - val_loss: 0.0628 - val_acc: 0.9813\n",
      "Epoch 11/12\n",
      "60000/60000 [==============================] - 14s 229us/step - loss: 0.0648 - acc: 0.9810 - val_loss: 0.0586 - val_acc: 0.9824\n",
      "Epoch 12/12\n",
      "60000/60000 [==============================] - 11s 176us/step - loss: 0.0613 - acc: 0.9822 - val_loss: 0.0556 - val_acc: 0.9828\n",
      "Test loss: 0.05562723760046065\n",
      "Test accuracy: 0.9828\n"
     ]
    }
   ],
   "source": [
    "from __future__ import print_function\n",
    "import keras\n",
    "from keras.datasets import mnist\n",
    "from keras.models import Sequential, load_model\n",
    "from keras.layers import Dense, Dropout, Flatten, Activation\n",
    "from keras.layers import Conv2D, MaxPooling2D,AveragePooling2D\n",
    "from keras import backend as K\n",
    "import numpy as np\n",
    "import cv2\n",
    "\n",
    "batch_size = 128\n",
    "num_classes = 10\n",
    "epochs = 12\n",
    "\n",
    "img_rows, img_cols = 28, 28\n",
    "\n",
    "(x_train, y_train), (x_test, y_test) = mnist.load_data()\n",
    "\n",
    "if K.image_data_format() == 'channels_first':\n",
    "    x_train = x_train.reshape(x_train.shape[0], 1, img_rows, img_cols)\n",
    "    x_test = x_test.reshape(x_test.shape[0], 1, img_rows, img_cols)\n",
    "    input_shape = (1, img_rows, img_cols)\n",
    "else:\n",
    "    x_train = x_train.reshape(x_train.shape[0], img_rows, img_cols, 1)\n",
    "    x_test = x_test.reshape(x_test.shape[0], img_rows, img_cols, 1)\n",
    "    input_shape = (img_rows, img_cols, 1)\n",
    "    \n",
    "x_train = x_train.astype('float32')\n",
    "x_test = x_test.astype('float32')\n",
    "x_train /= 255\n",
    "x_test /= 255\n",
    "print('x_train shape:', x_train.shape)\n",
    "print(x_train.shape[0], 'train samples')\n",
    "print(x_test.shape[0], 'test samples')\n",
    "\n",
    "# convert class vectors to binary class matrices\n",
    "y_train = keras.utils.to_categorical(y_train, num_classes)\n",
    "y_test = keras.utils.to_categorical(y_test, num_classes)\n",
    "\n",
    "model=Sequential()\n",
    "#Layer 1 - Convolution layer 1\n",
    "model.add(Conv2D(4, kernel_size=(5, 5), activation='tanh', input_shape=input_shape))\n",
    "#Layer 2 - Subsampling layer - average pool 1\n",
    "model.add(AveragePooling2D(pool_size=(2, 2),strides=2))\n",
    "#Layer 3 - Convolution layer 2\n",
    "model.add(Conv2D(12, (5, 5), activation='tanh'))\n",
    "#Layer 4 - Subsampling layer - average pool 2\n",
    "model.add(AveragePooling2D(pool_size=(2, 2),strides=2))\n",
    "model.add(Flatten())\n",
    "#Layer 5 - Fully connected layer 1\n",
    "model.add(Dense(num_classes))\n",
    "model.add(Activation('softmax'))\n",
    "\n",
    "model.compile(loss=keras.losses.categorical_crossentropy,\n",
    "              optimizer=keras.optimizers.Adadelta(),\n",
    "              metrics=['accuracy'])\n",
    "\n",
    "model.fit(x_train, y_train,\n",
    "          batch_size=batch_size,\n",
    "          epochs=epochs,\n",
    "          verbose=1,\n",
    "          validation_data=(x_test, y_test))\n",
    "score = model.evaluate(x_test, y_test, verbose=0)\n",
    "print('Test loss:', score[0])\n",
    "print('Test accuracy:', score[1])"
   ]
  },
  {
   "cell_type": "code",
   "execution_count": 2,
   "metadata": {},
   "outputs": [
    {
     "name": "stdout",
     "output_type": "stream",
     "text": [
      "_________________________________________________________________\n",
      "Layer (type)                 Output Shape              Param #   \n",
      "=================================================================\n",
      "conv2d_1 (Conv2D)            (None, 24, 24, 4)         104       \n",
      "_________________________________________________________________\n",
      "average_pooling2d_1 (Average (None, 12, 12, 4)         0         \n",
      "_________________________________________________________________\n",
      "conv2d_2 (Conv2D)            (None, 8, 8, 12)          1212      \n",
      "_________________________________________________________________\n",
      "average_pooling2d_2 (Average (None, 4, 4, 12)          0         \n",
      "_________________________________________________________________\n",
      "flatten_1 (Flatten)          (None, 192)               0         \n",
      "_________________________________________________________________\n",
      "dense_1 (Dense)              (None, 10)                1930      \n",
      "_________________________________________________________________\n",
      "activation_1 (Activation)    (None, 10)                0         \n",
      "=================================================================\n",
      "Total params: 3,246\n",
      "Trainable params: 3,246\n",
      "Non-trainable params: 0\n",
      "_________________________________________________________________\n"
     ]
    }
   ],
   "source": [
    "model.layers\n",
    "model.summary()"
   ]
  },
  {
   "cell_type": "code",
   "execution_count": null,
   "metadata": {},
   "outputs": [],
   "source": []
  }
 ],
 "metadata": {
  "kernelspec": {
   "display_name": "Python 3",
   "language": "python",
   "name": "python3"
  },
  "language_info": {
   "codemirror_mode": {
    "name": "ipython",
    "version": 3
   },
   "file_extension": ".py",
   "mimetype": "text/x-python",
   "name": "python",
   "nbconvert_exporter": "python",
   "pygments_lexer": "ipython3",
   "version": "3.6.5"
  }
 },
 "nbformat": 4,
 "nbformat_minor": 2
}
